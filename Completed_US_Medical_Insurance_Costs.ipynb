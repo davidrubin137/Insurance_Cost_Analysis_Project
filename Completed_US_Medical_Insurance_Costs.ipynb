{
 "cells": [
  {
   "cell_type": "markdown",
   "metadata": {},
   "source": [
    "# U.S. Medical Insurance Costs"
   ]
  },
  {
   "cell_type": "code",
   "execution_count": 97,
   "metadata": {},
   "outputs": [],
   "source": [
    "\n",
    "from matplotlib import pyplot as plt\n",
    "import csv\n",
    "import statistics as stat\n",
    "ages = []\n",
    "sexes = []\n",
    "bmis = []\n",
    "num_children= []\n",
    "smoker_statuses = []\n",
    "regions = []\n",
    "insurance_charges = []"
   ]
  },
  {
   "cell_type": "markdown",
   "metadata": {},
   "source": [
    "Some possible ideas for analysis are the following:\n",
    "\n",
    "Find out the average age of the patients in the dataset.\n",
    "Analyze where a majority of the individuals are from.\n",
    "Look at the different costs between smokers vs. non-smokers.\n",
    "Figure out what the average age is for someone who has at least one child in this dataset.\n",
    "\n",
    "This imports the data into usable variables:"
   ]
  },
  {
   "cell_type": "code",
   "execution_count": 98,
   "metadata": {},
   "outputs": [],
   "source": [
    "with open(\"insurance.csv\") as insurance_csv:\n",
    "    insurance_dict = csv.DictReader(insurance_csv)\n",
    "    for row in insurance_dict:\n",
    "        ages.append(row[\"age\"])\n",
    "        sexes.append(row[\"sex\"])\n",
    "        bmis.append(row[\"bmi\"])\n",
    "        num_children.append(row[\"children\"])\n",
    "        smoker_statuses.append(row[\"smoker\"])\n",
    "        regions.append(row[\"region\"])\n",
    "        insurance_charges.append(row[\"charges\"])\n",
    "        \n",
    "ages = ages[1:]\n",
    "sexes = sexes[1:]\n",
    "bmis = bmis[1:]\n",
    "num_children = num_children[1:]\n",
    "smoker_statuses = smoker_statuses[1:]\n",
    "regions = regions[1:]\n",
    "insurance_charges = insurance_charges[1:]\n",
    "        "
   ]
  },
  {
   "cell_type": "markdown",
   "metadata": {},
   "source": [
    "This defines the class and various methods used for the analysis:"
   ]
  },
  {
   "cell_type": "code",
   "execution_count": 105,
   "metadata": {
    "scrolled": true
   },
   "outputs": [],
   "source": [
    "class PatientsInfo:\n",
    "    def __init__(self,ages,sexes,bmis,num_children,smoker_statuses,regions,insurance_charges):\n",
    "        self.ages = ages\n",
    "        self.sexes = sexes\n",
    "        self.bmis = bmis\n",
    "        self.num_children = num_children\n",
    "        self.smoker_statuses = smoker_statuses\n",
    "        self.regions = regions\n",
    "        self.insurance_charges = insurance_charges\n",
    "    def average_age(self):\n",
    "        total = 0\n",
    "        for age in self.ages:\n",
    "            total+= int(age)\n",
    "        average = round(total/len(self.ages),2)\n",
    "        return \"The average age of patients is \" + str(average) + \" years old.\" \n",
    "    def majority_region(self):\n",
    "        majority_region = \"\"\n",
    "        majority_count = 0 \n",
    "        for region in self.regions:\n",
    "            region_count = self.regions.count(region)\n",
    "            if region_count > majority_count:\n",
    "                majority_count = region_count\n",
    "                majority_region = region\n",
    "        return \"Majority of people are from \" + majority_region + \" with \" + str(majority_count) + \" people.\"\n",
    "    def create_dictionary(self):\n",
    "        self.patient_dictionary = {}\n",
    "        self.patient_dictionary[\"ages\"] = [int(age) for age in self.ages]\n",
    "        self.patient_dictionary[\"sexes\"] = self.sexes\n",
    "        self.patient_dictionary[\"bmis\"] = self.bmis\n",
    "        self.patient_dictionary[\"num_children\"] = self.num_children\n",
    "        self.patient_dictionary[\"smoker_statuses\"] = self.smoker_statuses\n",
    "        self.patient_dictionary[\"regions\"] = self.regions\n",
    "        self.patient_dictionary[\"insurance_charges\"] = self.insurance_charges\n",
    "        return self.patient_dictionary\n",
    "    def diff_cost_smoke(self):\n",
    "        total_cost_nonsmoke= 0\n",
    "        non_smoke_count = 0\n",
    "        total_cost_smoke= 0\n",
    "        smoke_count = 0\n",
    "        for i in range(len(self.smoker_statuses)):\n",
    "            if self.smoker_statuses[i] ==\"yes\":\n",
    "                total_cost_smoke+=float(self.insurance_charges[i])\n",
    "                smoke_count+=1\n",
    "                \n",
    "            elif self.smoker_statuses[i] ==\"no\":\n",
    "                total_cost_nonsmoke+=float(self.insurance_charges[i])\n",
    "                non_smoke_count+=1\n",
    "        average_nonsmoke = total_cost_nonsmoke/non_smoke_count\n",
    "        average_smoke = total_cost_smoke/smoke_count\n",
    "        difference = average_smoke-average_nonsmoke\n",
    "        return \"Smokers pay an average of $\" + str(difference) + \" more.\"\n",
    "    def average_charges(self):\n",
    "        total_charges = 0\n",
    "        for charge in self.insurance_charges:\n",
    "            total_charges+=float(charge)\n",
    "        average = total_charges/len(self.insurance_charges)\n",
    "        return \"Average Charge: \" + str(average)\n",
    "    def diff_cost_for_obese(self):\n",
    "        bmis = [float(bmi) for bmi in self.bmis]\n",
    "        obese_cost_list= []\n",
    "        rest_cost_list = []\n",
    "        for i in range(len(self.bmis)):\n",
    "            if bmis[i]>=30:\n",
    "                obese_cost_list.append(float(insurance_charges[i]))\n",
    "            elif bmis[i]<30:\n",
    "                rest_cost_list.append(float(insurance_charges[i]))\n",
    "        obese_mean = stat.mean(obese_cost_list)\n",
    "        rest_mean = stat.mean(rest_cost_list)\n",
    "        diff = round(obese_mean-rest_mean,2)\n",
    "        return \"Obese people pay an average of $\" +str(diff) +\" more.\"\n",
    "    def cost_dependent_on_num_children(self,desired_num_children):\n",
    "        num_children = [int(child) for child in self.num_children]\n",
    "        cost_list = []\n",
    "        for i in range(len(num_children)):\n",
    "            if num_children[i] == desired_num_children:\n",
    "                cost_list.append(float(insurance_charges[i]))\n",
    "        average_cost = stat.mean(cost_list)\n",
    "        return \"The average cost for a person with {} children is ${}.\".format(desired_num_children,average_cost)\n",
    "    def average_cost_for_agerange(self,start_age,end_age):\n",
    "        age_cost_list = []\n",
    "        age = [int(age) for age in self.ages]\n",
    "        for i in range(len(age)):\n",
    "            if age[i] >= start_age and age[i]<=end_age:\n",
    "                age_cost_list.append(float(insurance_charges[i]))\n",
    "        average_cost = stat.mean(age_cost_list)\n",
    "        return \"People between the ages of {} and {} pay an average of ${}.\".format(start_age,end_age,average_cost)\n",
    "        \n",
    "    \n"
   ]
  },
  {
   "cell_type": "markdown",
   "metadata": {},
   "source": [
    "This defines the instance of the class and utilizes the various methods:\n"
   ]
  },
  {
   "cell_type": "code",
   "execution_count": 109,
   "metadata": {},
   "outputs": [],
   "source": [
    "patient_data_instance = PatientsInfo(ages,sexes,bmis,num_children,smoker_statuses,regions,insurance_charges)\n",
    "majority_region = patient_data_instance.majority_region()\n",
    "average_age = patient_data_instance.average_age()\n",
    "patient_dict = patient_data_instance.create_dictionary()\n",
    "smoker_difference = patient_data_instance.diff_cost_smoke()\n",
    "average_cost = patient_data_instance.average_charges()\n",
    "obese_cost = patient_data_instance.diff_cost_for_obese()\n",
    "cost_1_child = patient_data_instance.cost_dependent_on_num_children(1)\n",
    "cost_2_child = patient_data_instance.cost_dependent_on_num_children(2)\n",
    "cost_18_30yo = patient_data_instance.average_cost_for_agerange(18,30)"
   ]
  },
  {
   "cell_type": "markdown",
   "metadata": {},
   "source": [
    "This prints the analyses:"
   ]
  },
  {
   "cell_type": "code",
   "execution_count": 108,
   "metadata": {},
   "outputs": [
    {
     "name": "stdout",
     "output_type": "stream",
     "text": [
      "Majority of people are from southeast with 364 people.\n",
      "The average age of patients is 39.22 years old.\n",
      "Smokers pay an average of $23671.514111814133 more.\n",
      "Average Charge: 13267.718823305162\n",
      "Obese people pay an average of $4848.46 more.\n",
      "The average cost for a person with 1 children is $12731.171831635802.\n",
      "The average cost for a person with 2 children is $15073.563733958334.\n",
      "People between the ages of 18 and 30 pay an average of $9380.650534670429.\n"
     ]
    }
   ],
   "source": [
    "print(majority_region)\n",
    "print(average_age)\n",
    "print(smoker_difference)\n",
    "print(average_cost)\n",
    "print(obese_cost)\n",
    "print(cost_1_child)\n",
    "print(cost_2_child)\n",
    "print(cost_18_30yo)"
   ]
  },
  {
   "cell_type": "markdown",
   "metadata": {},
   "source": [
    "The following code down to the bottom of the project, creates a list of every unique age in the dataset, sorted in ascending order. It then calculates the average cost at each different age creates a matching list that has the average insurance cost for individuals at every single age. Below that, these findings are shown in a graph where a positive correlation between  "
   ]
  },
  {
   "cell_type": "code",
   "execution_count": 123,
   "metadata": {},
   "outputs": [
    {
     "name": "stdout",
     "output_type": "stream",
     "text": [
      "[18, 19, 20, 21, 22, 23, 24, 25, 26, 27, 28, 29, 30, 31, 32, 33, 34, 35, 36, 37, 38, 39, 40, 41, 42, 43, 44, 45, 46, 47, 48, 49, 50, 51, 52, 53, 54, 55, 56, 57, 58, 59, 60, 61, 62, 63, 64]\n",
      "[7086.217556362319, 9641.38672761194, 10159.697736206897, 4730.464329642857, 10012.932801785715, 12419.820039642856, 10648.015962142857, 9838.365310714285, 6133.825308571429, 12184.701721428572, 9069.187564285714, 10430.158727037036, 12719.110358148147, 10196.980573333334, 9220.300290769232, 12351.532987307692, 11613.528120769231, 11307.1820312, 12204.476138, 18019.9118772, 8102.733674, 11778.2429452, 11772.25131, 9653.745649629629, 13061.038668888888, 19267.278653333335, 15859.396587037038, 14830.199856206897, 14342.59063862069, 17653.99959310345, 14632.500445172414, 12696.006264285714, 15663.003300689656, 15682.25586724138, 18256.269719310345, 16020.930755, 18758.546475357143, 16164.54548846154, 15025.515836538461, 16447.18525, 13878.9281116, 18895.8695316, 21979.418507391303, 22024.45760869565, 19163.85657347826, 19884.998460869567, 23275.530837272727]\n"
     ]
    }
   ],
   "source": [
    "def unique_age_list(patient_dict):\n",
    "    unique_ages = []\n",
    "    patient_dict[\"ages\"] = [int(age) for age in patient_dict[\"ages\"]]\n",
    "    for age in patient_dict[\"ages\"]:\n",
    "        if age not in unique_ages:\n",
    "            unique_ages.append(age)\n",
    "    return unique_ages\n",
    "unique_ages = sorted(unique_age_list(patient_dict))\n",
    "print(unique_ages)\n",
    "\n",
    "def avgcost_at_age(age,patient_dict):\n",
    "    cost_at_age = []\n",
    "    insurance_charges = [float(charge) for charge in patient_dict[\"insurance_charges\"]]\n",
    "    for i in range(len(patient_dict[\"insurance_charges\"])):\n",
    "        if patient_dict[\"ages\"][i] ==age:\n",
    "            cost_at_age.append(insurance_charges[i])\n",
    "    avg_cost = stat.mean(cost_at_age)\n",
    "    return avg_cost\n",
    "cost_at_every_age =[]\n",
    "for age in unique_ages:\n",
    "    avgcost = avgcost_at_age(age, patient_dict)\n",
    "    cost_at_every_age.append(avgcost)\n"
   ]
  },
  {
   "cell_type": "code",
   "execution_count": 133,
   "metadata": {},
   "outputs": [
    {
     "data": {
      "image/png": "[encoded data removed]",
      "text/plain": [
       "<Figure size 432x288 with 1 Axes>"
      ]
     },
     "metadata": {
      "needs_background": "light"
     },
     "output_type": "display_data"
    }
   ],
   "source": [
    "\n",
    "plt.plot(unique_ages,cost_at_every_age,color= \"red\",label = \"insurance costs\")\n",
    "plt.title(\"Insurance Cost vs Age\")\n",
    "plt.xlabel(\"Age (Years)\")\n",
    "plt.ylabel(\"Insurance Cost ($)\")\n",
    "plt.legend()\n",
    "plt.show()"
   ]
  }
 ],
 "metadata": {
  "kernelspec": {
   "display_name": "Python 3 (ipykernel)",
   "language": "python",
   "name": "python3"
  },
  "language_info": {
   "codemirror_mode": {
    "name": "ipython",
    "version": 3
   },
   "file_extension": ".py",
   "mimetype": "text/x-python",
   "name": "python",
   "nbconvert_exporter": "python",
   "pygments_lexer": "ipython3",
   "version": "3.9.7"
  }
 },
 "nbformat": 4,
 "nbformat_minor": 4
}
